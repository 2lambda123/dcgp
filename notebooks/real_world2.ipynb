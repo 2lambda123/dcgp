{
 "cells": [
  {
   "cell_type": "markdown",
   "metadata": {},
   "source": [
    "# A real-world case (Physics: dynamics)\n",
    "\n",
    "In this tutorial we will be using data from a real-world case. The data comes from a piecewise continuous function representing the gravitational interaction between two swarm of particles. It is of interest to represent such an interaction with a one only continuous function, albeit introducing some error. If succesfull, this would allow to have some analytical insight on the qualitative stability of the resulting orbits, as well as to make use of methods requiring high order continuity to study the resulting dynamical system.\n",
    "\n",
    "The equation is (derived from a work by Francesco Biscani):\n",
    "$$\n",
    "a(x) = \\left\\{\n",
    "\\begin{array}{ll}\n",
    "\\frac{x^3 - 18x+32}{32} & x < 2 \\\\\n",
    "\\frac{1}{x^2} & x \\ge 2\n",
    "\\end{array}\n",
    "\\right.\n",
    "$$\n",
    "\n",
    "It is important, on this problem, to respect the asymptotic behaviour of the acceleration so that $\\lim_{x\\rightarrow \\infty}a(x) = \\frac 1{x^2}$."
   ]
  },
  {
   "cell_type": "code",
   "execution_count": 1,
   "metadata": {},
   "outputs": [],
   "source": [
    "# Some necessary imports.\n",
    "import dcgpy\n",
    "import pygmo as pg\n",
    "import numpy as np\n",
    "# Sympy is nice to have for basic symbolic manipulation.\n",
    "from sympy import init_printing\n",
    "from sympy.parsing.sympy_parser import *\n",
    "init_printing()\n",
    "# Fundamental for plotting.\n",
    "from matplotlib import pyplot as plt\n",
    "%matplotlib inline"
   ]
  },
  {
   "cell_type": "markdown",
   "metadata": {},
   "source": [
    "## 1 - The raw data\n",
    "Since the asymptotic behaviour is important, we place the majority of points on the $x>2$ area. Note that the definition of the grid (i.e. how many points and where) is fundamental and has great impact on the search performances."
   ]
  },
  {
   "cell_type": "code",
   "execution_count": 2,
   "metadata": {},
   "outputs": [],
   "source": [
    "X = np.linspace(0,15, 100)\n",
    "Y = X * ((X**3) - 18 * X + 32) / 32\n",
    "Y[X>2] = 1. / X[X>2]**2\n",
    "X = np.reshape(X, (100,1))\n",
    "Y = np.reshape(Y, (100,1))"
   ]
  },
  {
   "cell_type": "code",
   "execution_count": 3,
   "metadata": {},
   "outputs": [
    {
     "data": {
      "image/png": "[encoded data removed]",
      "text/plain": [
       "<Figure size 432x288 with 1 Axes>"
      ]
     },
     "metadata": {
      "needs_background": "light"
     },
     "output_type": "display_data"
    }
   ],
   "source": [
    "# And we plot them as to visualize the problem.\n",
    "_ = plt.plot(X, Y, '.')\n",
    "_ = plt.title('Acceleration')\n",
    "_ = plt.xlabel('a')\n",
    "_ = plt.ylabel('f')\n"
   ]
  },
  {
   "cell_type": "markdown",
   "metadata": {},
   "source": [
    "## 2 - The symbolic regression problem\n"
   ]
  },
  {
   "cell_type": "code",
   "execution_count": 4,
   "metadata": {},
   "outputs": [],
   "source": [
    "# We define our kernel set, that is the mathematical operators we will\n",
    "# want our final model to possibly contain. What to choose in here is left\n",
    "# to the competence and knowledge of the user. For this particular application we want to mainly look into rational \n",
    "#functions. Note we do not include the difference as that can be obtained via negative constants\n",
    "ss = dcgpy.kernel_set_double([\"sum\", \"mul\",\"pdiv\"])"
   ]
  },
  {
   "cell_type": "code",
   "execution_count": 5,
   "metadata": {},
   "outputs": [
    {
     "name": "stdout",
     "output_type": "stream",
     "text": [
      "\tData dimension (points): 1\n",
      "\tData dimension (labels): 1\n",
      "\tData size: 100\n",
      "\tKernels: [sum, mul, pdiv]\n",
      "\tLoss: MSE\n",
      "\n"
     ]
    }
   ],
   "source": [
    "# We instantiate the symbolic regression optimization problem (note: many important options are here not\n",
    "# specified and thus set to their default values).\n",
    "# Note that we allow for three constants in the final expression\n",
    "udp = dcgpy.symbolic_regression(points = X, labels = Y, kernels=ss(), n_eph=3, rows =1, cols=20, levels_back=21, multi_objective=True)\n",
    "print(udp)"
   ]
  },
  {
   "cell_type": "markdown",
   "metadata": {},
   "source": [
    "## 4 - The search algorithm"
   ]
  },
  {
   "cell_type": "code",
   "execution_count": 6,
   "metadata": {},
   "outputs": [],
   "source": [
    "# We instantiate here the evolutionary strategy we want to use to search for models.\n",
    "# In this case we use a multiple objective memetic algorithm.\n",
    "uda  = dcgpy.momes4cgp(gen = 3000, max_mut = 4)"
   ]
  },
  {
   "cell_type": "markdown",
   "metadata": {},
   "source": [
    "## 5 - The search"
   ]
  },
  {
   "cell_type": "code",
   "execution_count": 7,
   "metadata": {},
   "outputs": [],
   "source": [
    "prob = pg.problem(udp)\n",
    "algo = pg.algorithm(uda)\n",
    "# Note that the screen output will happen on the terminal, not on your Jupyter notebook.\n",
    "# It can be recovered afterwards from the log.\n",
    "algo.set_verbosity(10)\n",
    "pop = pg.population(prob, 20)"
   ]
  },
  {
   "cell_type": "code",
   "execution_count": 8,
   "metadata": {},
   "outputs": [],
   "source": [
    "pop = algo.evolve(pop)"
   ]
  },
  {
   "cell_type": "code",
   "execution_count": 13,
   "metadata": {},
   "outputs": [
    {
     "name": "stdout",
     "output_type": "stream",
     "text": [
      "Best loss (MSE) found is:  0.0002555079686589074\n"
     ]
    }
   ],
   "source": [
    "# This extract the population individual with lowest loss\n",
    "idx = np.argmin(pop.get_f(), axis=0)[0]\n",
    "print(\"Best loss (MSE) found is: \", pop.get_f()[idx][0])"
   ]
  },
  {
   "cell_type": "markdown",
   "metadata": {},
   "source": [
    "## 6 - Inspecting the solution"
   ]
  },
  {
   "cell_type": "code",
   "execution_count": 9,
   "metadata": {},
   "outputs": [
    {
     "data": {
      "image/png": "[encoded data removed]",
      "text/latex": [
       "$\\displaystyle \\left[ \\frac{2 c_{2} x_{0}^{2}}{\\left(c_{2} + x_{0}^{2}\\right)^{2}}\\right]$"
      ],
      "text/plain": [
       "⎡         2 ⎤\n",
       "⎢  2⋅c₂⋅x₀  ⎥\n",
       "⎢───────────⎥\n",
       "⎢          2⎥\n",
       "⎢⎛       2⎞ ⎥\n",
       "⎣⎝c₂ + x₀ ⎠ ⎦"
      ]
     },
     "execution_count": 9,
     "metadata": {},
     "output_type": "execute_result"
    }
   ],
   "source": [
    "pop.get_f()\n",
    "# Lets have a look to the symbolic representation of our model (using sympy)\n",
    "parse_expr(udp.prettier(pop.get_x()[idx]))"
   ]
  },
  {
   "cell_type": "code",
   "execution_count": 10,
   "metadata": {},
   "outputs": [],
   "source": [
    "# And lets see what our model actually predicts on the inputs\n",
    "Y_pred = udp.predict(X, pop.get_x()[idx])"
   ]
  },
  {
   "cell_type": "code",
   "execution_count": 12,
   "metadata": {},
   "outputs": [
    {
     "data": {
      "image/png": "[encoded data removed]",
      "text/plain": [
       "<Figure size 432x288 with 1 Axes>"
      ]
     },
     "metadata": {
      "needs_background": "light"
     },
     "output_type": "display_data"
    }
   ],
   "source": [
    "# Lets comapre to the data\n",
    "_ = plt.plot(X, Y_pred, 'r.')\n",
    "_ = plt.plot(X, Y, '.', alpha=0.2)\n",
    "_ = plt.title('measurements')\n",
    "_ = plt.xlabel('unknown')\n",
    "_ = plt.ylabel('temperature in unknown units')"
   ]
  },
  {
   "cell_type": "code",
   "execution_count": 14,
   "metadata": {},
   "outputs": [
    {
     "name": "stdout",
     "output_type": "stream",
     "text": [
      "Values for the constants:  [ 1.43930499  0.63600381 -0.59788675]\n"
     ]
    }
   ],
   "source": [
    "print(\"Values for the constants: \", pop.get_x()[idx][:3])"
   ]
  }
 ],
 "metadata": {
  "kernelspec": {
   "display_name": "Python 3",
   "language": "python",
   "name": "python3"
  },
  "language_info": {
   "codemirror_mode": {
    "name": "ipython",
    "version": 3
   },
   "file_extension": ".py",
   "mimetype": "text/x-python",
   "name": "python",
   "nbconvert_exporter": "python",
   "pygments_lexer": "ipython3",
   "version": "3.7.6"
  }
 },
 "nbformat": 4,
 "nbformat_minor": 4
}
