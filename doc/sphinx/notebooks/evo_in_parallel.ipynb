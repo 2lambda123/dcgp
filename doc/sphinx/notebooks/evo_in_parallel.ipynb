{
 "cells": [
  {
   "cell_type": "markdown",
   "metadata": {},
   "source": [
    "# Evolving CGPs in multiple threads\n",
    "\n",
    "In this tutorial we will learn how to evolve multiple Cartesian Genetic Programs in parallel CPUs. We use the same problem used in a previous tutorial performing the same evolution in a *pygmo* archipelago (that is in an island model where each island maintains a population of solutions and evolves them)"
   ]
  },
  {
   "cell_type": "code",
   "execution_count": 1,
   "metadata": {},
   "outputs": [],
   "source": [
    "# Some necessary imports.\n",
    "import dcgpy\n",
    "import pygmo as pg\n",
    "import numpy as np\n",
    "# Sympy is nice to have for basic symbolic manipulation.\n",
    "from sympy import init_printing\n",
    "from sympy.parsing.sympy_parser import *\n",
    "init_printing()\n",
    "# Fundamental for plotting.\n",
    "from matplotlib import pyplot as plt\n",
    "%matplotlib inline"
   ]
  },
  {
   "cell_type": "code",
   "execution_count": 2,
   "metadata": {},
   "outputs": [],
   "source": [
    "# Here we define our problem and solution strategy. In this case a simple Evolutionary Strategy acting on \n",
    "# a CGP with no added constants.\n",
    "X, Y = dcgpy.generate_chwirut2()\n",
    "ss = dcgpy.kernel_set_double([\"sum\", \"diff\", \"mul\", \"pdiv\"])\n",
    "udp = dcgpy.symbolic_regression(points = X, labels = Y, kernels=ss())\n",
    "uda  = dcgpy.es4cgp(gen = 10000, mut_n = 2)"
   ]
  },
  {
   "cell_type": "code",
   "execution_count": 3,
   "metadata": {},
   "outputs": [],
   "source": [
    "# We then construct our archipelago of *n*=64 islands containin 4 indivisuals each.\n",
    "prob = pg.problem(udp)\n",
    "algo = pg.algorithm(uda)\n",
    "archi = pg.archipelago(algo = algo, prob = prob, pop_size = 4, n=64)"
   ]
  },
  {
   "cell_type": "code",
   "execution_count": 4,
   "metadata": {},
   "outputs": [],
   "source": [
    "# Here is where the evolution starts\n",
    "archi.evolve()"
   ]
  },
  {
   "cell_type": "code",
   "execution_count": 5,
   "metadata": {},
   "outputs": [
    {
     "data": {
      "text/plain": [
       "Island name: Thread island\n",
       "\tStatus: busy\n",
       "\n",
       "Algorithm: ES for CGP: Evolutionary strategy for Cartesian Genetic Programming\n",
       "\n",
       "Problem: a CGP symbolic regression problem\n",
       "\n",
       "Replacement policy: Fair replace\n",
       "\n",
       "Selection policy: Select best\n",
       "\n",
       "Population size: 4\n",
       "\tChampion decision vector: [0, 0, 0, 3, 1, ... ]\n",
       "\tChampion fitness: [1553.59]"
      ]
     },
     "execution_count": 5,
     "metadata": {},
     "output_type": "execute_result"
    }
   ],
   "source": [
    "# We can inspect at any time the status of any island of the archipelago\n",
    "archi[23]"
   ]
  },
  {
   "cell_type": "code",
   "execution_count": 6,
   "metadata": {},
   "outputs": [],
   "source": [
    "# Note how in the log above the island is *busy* indicating that the evolution is running. Note also that the\n",
    "# island is, in this case, of type *thread island* indicating that its evolution is running on a separate thread\n",
    "# We can also stop the interactive session and wait for the evolution to finish\n",
    "archi.wait()"
   ]
  },
  {
   "cell_type": "code",
   "execution_count": 7,
   "metadata": {},
   "outputs": [
    {
     "data": {
      "image/png": "[encoded data removed]",
      "text/plain": [
       "<Figure size 432x288 with 1 Axes>"
      ]
     },
     "metadata": {
      "needs_background": "light"
     },
     "output_type": "display_data"
    }
   ],
   "source": [
    "# Let us inspect the results\n",
    "fs = archi.get_champions_f()\n",
    "xs = archi.get_champions_x()\n",
    "plt.plot(fs, '.')\n",
    "plt.xlabel('thread (island id)')\n",
    "_ = plt.ylabel('loss')"
   ]
  },
  {
   "cell_type": "code",
   "execution_count": 10,
   "metadata": {},
   "outputs": [],
   "source": [
    "b_idx = np.argmin(fs)\n",
    "best_x = archi.get_champions_x()[b_idx]"
   ]
  },
  {
   "cell_type": "code",
   "execution_count": 12,
   "metadata": {},
   "outputs": [
    {
     "data": {
      "image/png": "[encoded data removed]",
      "text/latex": [
       "$\\displaystyle \\left[ \\frac{48 + \\frac{8 \\left(\\frac{x_{0}}{4} - \\frac{1}{2}\\right)}{x_{0}}}{x_{0}}\\right]$"
      ],
      "text/plain": [
       "⎡       ⎛x₀   1⎞⎤\n",
       "⎢     8⋅⎜── - ─⎟⎥\n",
       "⎢       ⎝4    2⎠⎥\n",
       "⎢48 + ──────────⎥\n",
       "⎢         x₀    ⎥\n",
       "⎢───────────────⎥\n",
       "⎣       x₀      ⎦"
      ]
     },
     "execution_count": 12,
     "metadata": {},
     "output_type": "execute_result"
    }
   ],
   "source": [
    "parse_expr(udp.prettier(best_x))"
   ]
  },
  {
   "cell_type": "code",
   "execution_count": 14,
   "metadata": {},
   "outputs": [],
   "source": [
    "# And lets see what our model actually predicts on the inputs\n",
    "Y_pred = udp.predict(X, best_x)"
   ]
  },
  {
   "cell_type": "code",
   "execution_count": 15,
   "metadata": {},
   "outputs": [
    {
     "data": {
      "image/png": "[encoded data removed]",
      "text/plain": [
       "<Figure size 432x288 with 1 Axes>"
      ]
     },
     "metadata": {
      "needs_background": "light"
     },
     "output_type": "display_data"
    }
   ],
   "source": [
    "# Lets comapre to the data\n",
    "_ = plt.plot(X, Y_pred, 'r.')\n",
    "_ = plt.plot(X, Y, '.', alpha=0.2)\n",
    "_ = plt.title('54 measurments')\n",
    "_ = plt.xlabel('metal distance')\n",
    "_ = plt.ylabel('ultrasonic response')"
   ]
  }
 ],
 "metadata": {
  "kernelspec": {
   "display_name": "Python 3",
   "language": "python",
   "name": "python3"
  },
  "language_info": {
   "codemirror_mode": {
    "name": "ipython",
    "version": 3
   },
   "file_extension": ".py",
   "mimetype": "text/x-python",
   "name": "python",
   "nbconvert_exporter": "python",
   "pygments_lexer": "ipython3",
   "version": "3.7.4"
  }
 },
 "nbformat": 4,
 "nbformat_minor": 2
}
