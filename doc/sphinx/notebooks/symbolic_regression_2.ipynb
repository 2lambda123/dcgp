{
 "cells": [
  {
   "cell_type": "markdown",
   "metadata": {},
   "source": [
    "# Symbolic Regression with constants (via Evolutionary Strategy)\n",
    "\n",
    "In this second tutorial we consider some input data that are"
   ]
  },
  {
   "cell_type": "code",
   "execution_count": 5,
   "metadata": {},
   "outputs": [],
   "source": [
    "# Some necessary imports.\n",
    "import dcgpy\n",
    "import pygmo as pg\n",
    "# Sympy is nice to have for basic symbolic manipulation.\n",
    "from sympy import init_printing\n",
    "from sympy.parsing.sympy_parser import *\n",
    "init_printing()\n",
    "# Fundamental for plotting.\n",
    "from matplotlib import pyplot as plt\n",
    "%matplotlib inline"
   ]
  },
  {
   "cell_type": "markdown",
   "metadata": {},
   "source": [
    "#### 1 - The data"
   ]
  },
  {
   "cell_type": "code",
   "execution_count": 6,
   "metadata": {},
   "outputs": [],
   "source": [
    "# We load our data from some available ones shipped with dcgpy.\n",
    "# In this particular case we use the problem chwirut2 from \n",
    "# (https://www.itl.nist.gov/div898/strd/nls/data/chwirut2.shtml)\n",
    "X, Y = dcgpy.generate_kirby2()\n"
   ]
  },
  {
   "cell_type": "code",
   "execution_count": 7,
   "metadata": {},
   "outputs": [
    {
     "data": {
      "image/png": "[encoded data removed]",
      "text/plain": [
       "<Figure size 432x288 with 1 Axes>"
      ]
     },
     "metadata": {
      "needs_background": "light"
     },
     "output_type": "display_data"
    }
   ],
   "source": [
    "# And we plot them as to visualize the problem.\n",
    "_ = plt.plot(X, Y, '.')\n",
    "_ = plt.title('54 measurments')\n",
    "_ = plt.xlabel('metal distance')\n",
    "_ = plt.ylabel('ultrasonic response')\n",
    "\n",
    "\n"
   ]
  },
  {
   "cell_type": "markdown",
   "metadata": {},
   "source": [
    "#### 2 - The symbolic regression problem"
   ]
  },
  {
   "cell_type": "code",
   "execution_count": 8,
   "metadata": {},
   "outputs": [],
   "source": [
    "# We define our kernel set, that is the mathematical operators we will\n",
    "# want our final model to possibly contain. What to choose in here is left\n",
    "# to the competence and knowledge of the user. A list of kernels shipped with dcgpy \n",
    "# can be found on the online docs. The user can also define its own kernels (see the corresponding tutorial).\n",
    "ss = dcgpy.kernel_set_double([\"sum\", \"diff\", \"mul\", \"pdiv\"])"
   ]
  },
  {
   "cell_type": "code",
   "execution_count": 57,
   "metadata": {},
   "outputs": [
    {
     "name": "stdout",
     "output_type": "stream",
     "text": [
      "\tData dimension (points): 1\n",
      "\tData dimension (labels): 1\n",
      "\tData size: 151\n",
      "\tKernels: [sum, diff, mul, pdiv]\n",
      "\n"
     ]
    }
   ],
   "source": [
    "# We instantiate the symbolic regression optimization problem (note: many important options are here not\n",
    "# specified and thus set to their default values)\n",
    "udp = dcgpy.symbolic_regression(points = X, labels = Y, kernels=ss(), n_eph = 5,levels_back=10, rows = 5, cols=20)\n",
    "print(udp)"
   ]
  },
  {
   "cell_type": "markdown",
   "metadata": {},
   "source": [
    "#### 3 - The search algorithm"
   ]
  },
  {
   "cell_type": "code",
   "execution_count": 58,
   "metadata": {},
   "outputs": [],
   "source": [
    "# We instantiate here the evolutionary strategy we want to use to search for models.\n",
    "uda  = dcgpy.es4cgp(gen = 10000, mut_n = 2)\n",
    "local_uda = dcgpy.gd4cgp(max_iter = 20, lr = 0.1, lr_min = 1e-12)"
   ]
  },
  {
   "cell_type": "markdown",
   "metadata": {},
   "source": [
    "#### 4 - The search"
   ]
  },
  {
   "cell_type": "code",
   "execution_count": 66,
   "metadata": {},
   "outputs": [],
   "source": [
    "prob = pg.problem(udp)\n",
    "algo = pg.algorithm(uda)\n",
    "local_algo = pg.algorithm(local_uda)\n",
    "# Note that the screen output will happen on the terminal, not on your Jupyter notebook.\n",
    "# It can be recovered afterwards from the log.\n",
    "algo.set_verbosity(10)\n",
    "local_algo.set_verbosity(1)\n",
    "pop = pg.population(prob, 4)"
   ]
  },
  {
   "cell_type": "code",
   "execution_count": 67,
   "metadata": {},
   "outputs": [],
   "source": [
    "pop = algo.evolve(pop)"
   ]
  },
  {
   "cell_type": "code",
   "execution_count": 68,
   "metadata": {},
   "outputs": [],
   "source": [
    "pop = local_algo.evolve(pop)"
   ]
  },
  {
   "cell_type": "markdown",
   "metadata": {},
   "source": [
    "#### 5 - Inspecting the solution"
   ]
  },
  {
   "cell_type": "code",
   "execution_count": 74,
   "metadata": {},
   "outputs": [],
   "source": [
    "# Lets have a look to the symbolic representation of our model (using sympy)\n",
    "a = parse_expr(udp.prettier(pop.champion_x))[0]"
   ]
  },
  {
   "cell_type": "code",
   "execution_count": 82,
   "metadata": {},
   "outputs": [
    {
     "data": {
      "image/png": "[encoded data removed]",
      "text/latex": [
       "$\\displaystyle \\left\\{c_{1}, c_{2}, c_{3}, c_{4}, c_{5}, x_{0}\\right\\}$"
      ],
      "text/plain": [
       "{c₁, c₂, c₃, c₄, c₅, x₀}"
      ]
     },
     "execution_count": 82,
     "metadata": {},
     "output_type": "execute_result"
    }
   ],
   "source": [
    "a.subs(\"c_2\", 0.1)\n",
    "a.free_symbols"
   ]
  },
  {
   "cell_type": "code",
   "execution_count": 54,
   "metadata": {},
   "outputs": [],
   "source": [
    "# And lets see what our model actually predicts on the inputs\n",
    "Y_pred = udp.predict(X, pop.champion_x)"
   ]
  },
  {
   "cell_type": "code",
   "execution_count": 55,
   "metadata": {},
   "outputs": [
    {
     "data": {
      "image/png": "[encoded data removed]",
      "text/plain": [
       "<Figure size 432x288 with 1 Axes>"
      ]
     },
     "metadata": {
      "needs_background": "light"
     },
     "output_type": "display_data"
    }
   ],
   "source": [
    "# Lets comapre to the data\n",
    "_ = plt.plot(X, Y_pred, 'r.')\n",
    "_ = plt.plot(X, Y, '.', alpha=0.2)\n",
    "_ = plt.title('54 measurments')\n",
    "_ = plt.xlabel('metal distance')\n",
    "_ = plt.ylabel('ultrasonic response')\n"
   ]
  },
  {
   "cell_type": "markdown",
   "metadata": {},
   "source": [
    "#### 6 - Recovering the log\n"
   ]
  },
  {
   "cell_type": "code",
   "execution_count": 146,
   "metadata": {},
   "outputs": [
    {
     "data": {
      "image/png": "[encoded data removed]",
      "text/latex": [
       "$\\displaystyle 1$"
      ],
      "text/plain": [
       "1"
      ]
     },
     "execution_count": 146,
     "metadata": {},
     "output_type": "execute_result"
    }
   ],
   "source": [
    "pop.best_idx()\n"
   ]
  },
  {
   "cell_type": "code",
   "execution_count": 12,
   "metadata": {},
   "outputs": [],
   "source": [
    "# Here we get the log of the latest call to the evolve\n",
    "log = algo.extract(dcgpy.es4cgp).get_log()\n",
    "gen = [it[0] for it in log]\n",
    "loss = [it[2] for it in log]"
   ]
  },
  {
   "cell_type": "code",
   "execution_count": 19,
   "metadata": {},
   "outputs": [
    {
     "data": {
      "image/png": "[encoded data removed]",
      "text/plain": [
       "<Figure size 432x288 with 1 Axes>"
      ]
     },
     "metadata": {
      "needs_background": "light"
     },
     "output_type": "display_data"
    }
   ],
   "source": [
    "# And here we plot, for example, the generations against the best loss\n",
    "_ = plt.semilogy(gen, loss)\n",
    "_ = plt.title('last call to evolve')\n",
    "_ = plt.xlabel('metal distance')\n",
    "_ = plt.ylabel('ultrasonic response')"
   ]
  }
 ],
 "metadata": {
  "kernelspec": {
   "display_name": "Python 3",
   "language": "python",
   "name": "python3"
  },
  "language_info": {
   "codemirror_mode": {
    "name": "ipython",
    "version": 3
   },
   "file_extension": ".py",
   "mimetype": "text/x-python",
   "name": "python",
   "nbconvert_exporter": "python",
   "pygments_lexer": "ipython3",
   "version": "3.7.4"
  }
 },
 "nbformat": 4,
 "nbformat_minor": 2
}
