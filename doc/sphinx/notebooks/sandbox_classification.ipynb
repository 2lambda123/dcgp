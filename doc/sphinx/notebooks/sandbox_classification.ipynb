{
 "cells": [
  {
   "cell_type": "markdown",
   "metadata": {},
   "source": [
    "# Representing an Artificial Neural Network as a Cartesian Genetic Program\n",
    "(a.k.a dCGPANN)\n",
    "\n",
    "Neural networks (deep, shallow, convolutional or not) are, after all, computer programs and as such can be encoded in a chromosome and represented as a Genetic Program. A dCGPANN, coded in the class *expression_ann_double*, is exactly this: a feed forward neural network represented into a chromosome using a Cartesian Genetic Programming encoding. Derivatives with respect to weights and biases can be easily extracted, the underlying algorithm being backward automated differentiation. Unlike other dCGP expression higher order derivatives are not available (no *gduals*). "
   ]
  },
  {
   "cell_type": "code",
   "execution_count": 2,
   "metadata": {},
   "outputs": [],
   "source": [
    "# Initial import\n",
    "import dcgpy\n",
    "import matplotlib.pyplot as plt\n",
    "import numpy as np\n",
    "from tqdm import tqdm\n",
    "%matplotlib inline"
   ]
  },
  {
   "cell_type": "markdown",
   "metadata": {},
   "source": [
    "### Data set"
   ]
  },
  {
   "cell_type": "code",
   "execution_count": 3,
   "metadata": {},
   "outputs": [],
   "source": [
    "# We import the data for a classification task\n",
    "from numpy import genfromtxt\n",
    "# https://archive.ics.uci.edu/ml/datasets/Abalone\n",
    "my_data = genfromtxt('abalone_data_set.csv', delimiter=',')\n",
    "points = my_data[:,:-1]\n",
    "labels_tmp = my_data[:,-1]\n",
    "# We trasform the categorical variables to one hot encoding\n",
    "labels = np.zeros((len(labels_tmp), 29))\n",
    "for i,l in enumerate(labels_tmp):\n",
    "    labels[i][int(l)-1] = 1\n",
    "    "
   ]
  },
  {
   "cell_type": "markdown",
   "metadata": {},
   "source": [
    "### Mutating a dCGPANN"
   ]
  },
  {
   "cell_type": "code",
   "execution_count": 4,
   "metadata": {},
   "outputs": [
    {
     "name": "stdout",
     "output_type": "stream",
     "text": [
      "Starting error: 3.368374446075054\n",
      "Net complexity (number of active nodes): 140\n"
     ]
    }
   ],
   "source": [
    "# Non linearities\n",
    "nonlinearities = dcgpy.kernel_set_double([\"sig\", \"ReLu\", \"tanh\"])\n",
    "# We define a single input single output dCGPANN.\n",
    "dcgpann = dcgpy.expression_ann_double(inputs=8, outputs=29, rows=30, cols=5, \n",
    "                                      levels_back=2, arity=30, kernels=nonlinearities())\n",
    "# By default all weights (and biases) are set to 1 (and 0). We initialize them randomly\n",
    "dcgpann.randomise_weights(mean = 0., std = 0.1)\n",
    "#dcgpann.randomise_biases(mean = 0., std = 0.001)\n",
    "\n",
    "# Since the output is in [-1, 1] we force the output nonliearity to be tanh\n",
    "dcgpann.set_output_f(2)\n",
    "\n",
    "print(\"Starting error:\", dcgpann.loss(points,labels, \"CE\"))\n",
    "print(\"Net complexity (number of active nodes):\", len(dcgpann.get_active_nodes()))\n",
    "x = dcgpann.get()\n",
    "w = dcgpann.get_weights()\n",
    "b = dcgpann.get_biases()\n"
   ]
  },
  {
   "cell_type": "code",
   "execution_count": 19,
   "metadata": {},
   "outputs": [
    {
     "name": "stderr",
     "output_type": "stream",
     "text": [
      "100%|██████████| 100/100 [00:06<00:00, 16.48it/s]\n",
      "100%|██████████| 100/100 [00:06<00:00, 15.68it/s]\n"
     ]
    },
    {
     "data": {
      "image/png": "[encoded data removed]",
      "text/plain": [
       "<Figure size 1080x216 with 2 Axes>"
      ]
     },
     "metadata": {},
     "output_type": "display_data"
    }
   ],
   "source": [
    "# We show the effect of mutations\n",
    "n_mutations = 100\n",
    "mut = []\n",
    "for i in tqdm(range(n_mutations)):\n",
    "    dcgpann.set(x)\n",
    "    dcgpann.set_weights(w)\n",
    "    dcgpann.set_biases(b)\n",
    "    dcgpann.mutate_active_cgene(10)\n",
    "    dcgpann.set_output_f(2)\n",
    "    mut.append(dcgpann.loss(points,labels, \"CE\"))\n",
    "    \n",
    "mut2 = []\n",
    "dcgpann.set(x)\n",
    "dcgpann.set_weights(w)\n",
    "dcgpann.set_biases(b)\n",
    "for i in tqdm(range(n_mutations)):\n",
    "    dcgpann.mutate_active_cgene(1)\n",
    "    dcgpann.set_output_f(2)\n",
    "    mut2.append(dcgpann.loss(points,labels, \"CE\"))\n",
    "\n",
    "#plot\n",
    "f, ax = plt.subplots(1,2, figsize=(15,3))\n",
    "plt.subplot(1,2,1)\n",
    "_ = plt.plot(mut)\n",
    "plt.subplot(1,2,2)\n",
    "_ = plt.plot(mut2)\n"
   ]
  },
  {
   "cell_type": "code",
   "execution_count": 15,
   "metadata": {},
   "outputs": [
    {
     "name": "stdout",
     "output_type": "stream",
     "text": [
      "Start error: 3.368374446075054\n"
     ]
    },
    {
     "name": "stderr",
     "output_type": "stream",
     "text": [
      "100%|██████████| 10/10 [00:01<00:00,  7.29it/s]"
     ]
    },
    {
     "name": "stdout",
     "output_type": "stream",
     "text": [
      "Current error: 2.7116786221919353\n"
     ]
    },
    {
     "name": "stderr",
     "output_type": "stream",
     "text": [
      "\n"
     ]
    }
   ],
   "source": [
    "dcgpann.set(x)\n",
    "dcgpann.set_weights(w)\n",
    "dcgpann.set_biases(b)\n",
    "# We train\n",
    "n_epochs = 10\n",
    "print(\"Start error:\", dcgpann.loss(points,labels, \"CE\"), flush=True)\n",
    "\n",
    "for i in tqdm(range(n_epochs)):\n",
    "    dcgpann.sgd(points, labels, 0.1, 32, \"CE\")\n",
    "\n",
    "print(\"Current error:\", dcgpann.loss(points,labels, \"CE\"), flush=True)\n",
    "\n",
    "xt = dcgpann.get()\n",
    "wt = dcgpann.get_weights()\n",
    "bt = dcgpann.get_biases()\n",
    "\n"
   ]
  },
  {
   "cell_type": "code",
   "execution_count": 16,
   "metadata": {},
   "outputs": [
    {
     "name": "stderr",
     "output_type": "stream",
     "text": [
      "100%|██████████| 10/10 [00:12<00:00,  1.29s/it]\n"
     ]
    },
    {
     "data": {
      "image/png": "[encoded data removed]",
      "text/plain": [
       "<Figure size 432x288 with 1 Axes>"
      ]
     },
     "metadata": {},
     "output_type": "display_data"
    }
   ],
   "source": [
    "# We show the effect of trained mutations\n",
    "n_mutations = 10\n",
    "mut = []\n",
    "for i in tqdm(range(n_mutations)):\n",
    "    dcgpann.set(xt)\n",
    "    dcgpann.set_weights(wt)\n",
    "    dcgpann.set_biases(bt)\n",
    "    dcgpann.mutate_active_cgene(10)\n",
    "    dcgpann.set_output_f(2)\n",
    "    for i in range(n_epochs):\n",
    "        dcgpann.sgd(points, labels, 0.1, 32, \"CE\")\n",
    "    mut.append(dcgpann.loss(points,labels, \"CE\"))\n",
    "\n",
    "dcgpann.set(xt)\n",
    "dcgpann.set_weights(wt)\n",
    "dcgpann.set_biases(bt)\n",
    "for i in range(n_epochs):\n",
    "    dcgpann.sgd(points, labels, 0.1, 32, \"CE\")\n",
    "\n",
    "_ = plt.plot(mut)\n",
    "_ = plt.plot([0,n_mutations],[dcgpann.loss(points,labels, \"CE\"),dcgpann.loss(points,labels, \"CE\")],'r')"
   ]
  },
  {
   "cell_type": "code",
   "execution_count": null,
   "metadata": {},
   "outputs": [],
   "source": []
  }
 ],
 "metadata": {
  "kernelspec": {
   "display_name": "Python 3",
   "language": "python",
   "name": "python3"
  },
  "language_info": {
   "codemirror_mode": {
    "name": "ipython",
    "version": 3
   },
   "file_extension": ".py",
   "mimetype": "text/x-python",
   "name": "python",
   "nbconvert_exporter": "python",
   "pygments_lexer": "ipython3",
   "version": "3.6.6"
  }
 },
 "nbformat": 4,
 "nbformat_minor": 2
}
