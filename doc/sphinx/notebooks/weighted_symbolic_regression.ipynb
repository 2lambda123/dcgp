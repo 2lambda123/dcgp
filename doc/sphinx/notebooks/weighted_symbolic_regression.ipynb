{
 "cells": [
  {
   "cell_type": "markdown",
   "metadata": {
    "collapsed": true
   },
   "source": [
    "# Weighted dCGP for a symbolic regression task "
   ]
  },
  {
   "cell_type": "code",
   "execution_count": 1,
   "metadata": {},
   "outputs": [],
   "source": [
    "from pyaudi import gdual_vdouble as gdual\n",
    "from dcgpy import expression_weighted_gdual_vdouble as expression\n",
    "from dcgpy import kernel_set_gdual_vdouble as kernel_set\n",
    "import pyaudi\n",
    "import numpy as np\n",
    "import math\n",
    "import re\n",
    "%matplotlib inline"
   ]
  },
  {
   "cell_type": "markdown",
   "metadata": {},
   "source": [
    "## The ES-(1+$\\lambda$) algorithm"
   ]
  },
  {
   "cell_type": "code",
   "execution_count": 2,
   "metadata": {},
   "outputs": [],
   "source": [
    "def run_experiment(dCGP, offsprings, max_gen, x, yt, newtonParams, screen_output):\n",
    "    # The offsprings chromosome, fitness and weights\n",
    "    chromosome = [1] * offsprings\n",
    "    fitness = [1] * offsprings\n",
    "    weights = [1] * offsprings\n",
    "    # Init the best as the initial random dCGP\n",
    "    best_chromosome = dCGP.get()\n",
    "    best_weights = dCGP.get_weights()\n",
    "    best_fitness = sum(mse(dCGP, x, yt).constant_cf)\n",
    "    # Main loop over generations\n",
    "    for g in range(max_gen):\n",
    "        for i in range(offsprings):\n",
    "            dCGP.set(best_chromosome)\n",
    "            dCGP.set_weights(best_weights)\n",
    "            cumsum=0\n",
    "            dCGP.mutate_active(i)\n",
    "            newton(dCGP, mse, x, yt, newtonParams)\n",
    "            fitness[i] = sum(mse(dCGP, x, yt).constant_cf)\n",
    "            chromosome[i] = dCGP.get()\n",
    "            weights[i] = dCGP.get_weights()\n",
    "        for i in range(offsprings):\n",
    "            if fitness[i] <= best_fitness:\n",
    "                dCGP.set(chromosome[i])\n",
    "                dCGP.set_weights(weights[i])\n",
    "                if (fitness[i] != best_fitness) and screen_output:\n",
    "                    print(\"New best found: gen: \", g, \" value: \", fitness[i], dCGP.simplify([\"x\"],True))\n",
    "                best_chromosome = chromosome[i]\n",
    "                best_fitness = fitness[i]\n",
    "                best_weights = weights[i]\n",
    "\n",
    "        if best_fitness < 1e-14:\n",
    "            break\n",
    "    return g, best_chromosome, best_weights"
   ]
  },
  {
   "cell_type": "markdown",
   "metadata": {},
   "source": [
    "## The test problems\n",
    "P1: $x^5 - \\pi x^3 + x$\n",
    "\n",
    "P2: $x^5 - \\pi x^3 + \\frac{2\\pi}x$\n",
    "\n",
    "P3: $\\frac{e x^5 + x^3}{x + 1}$\n",
    "\n",
    "P4: $\\sin(\\pi x) + \\frac 1x$\n",
    "\n",
    "P5: $e x^5 - \\pi x^3 + x$\n",
    "\n",
    "P6: $\\frac{e x^2-1}{\\pi (x + 2)}$\n",
    "\n",
    "P7: $\\sin(e x) + \\cos(\\pi x)$"
   ]
  },
  {
   "cell_type": "code",
   "execution_count": 3,
   "metadata": {},
   "outputs": [],
   "source": [
    "# The following functions create the target values for a gridded input x for different test problems\n",
    "def data_P1(x):\n",
    "    return x**5 - np.pi*x**3 + x\n",
    "def data_P2(x):\n",
    "    return x**5 - np.pi*x**3 + 2*np.pi / x\n",
    "def data_P3(x):\n",
    "    return (np.e*x**5 + x**3)/(x + 1)\n",
    "def data_P4(x):\n",
    "    return pyaudi.sin(np.pi * x) + 1./x\n",
    "def data_P5(x):\n",
    "    return np.e * x**5 - np.pi*x**3 + np.sqrt(2) * x\n",
    "def data_P5(x):\n",
    "    return np.e * x**5 - np.pi*x**3 + x\n",
    "def data_P6(x):\n",
    "    return (np.e*x**2-1) / (np.pi*(x + 2))\n",
    "def data_P7(x):\n",
    "    return pyaudi.sin(np.e*x)+pyaudi.cos(np.pi*x)"
   ]
  },
  {
   "cell_type": "markdown",
   "metadata": {},
   "source": [
    "## The error function"
   ]
  },
  {
   "cell_type": "code",
   "execution_count": 4,
   "metadata": {},
   "outputs": [],
   "source": [
    "# This is used to sum over the component of a vectorized coefficient, accounting for the fact that if its dimension\n",
    "# is 1, then it could represent [a,a,a,a,a,a,a,a,a,a,a,a,a,a,a,a,a,a,a,a ...] with [a]\n",
    "def collapse_vectorized_coefficient(x, N):\n",
    "    if len(x) == N:\n",
    "        return sum(x)\n",
    "    return x[0] * N\n",
    "\n",
    "# Quadratic error of a dCGP expression. The error is computed over the input points xin (of type gdual, order 0 as\n",
    "# we are not interested in expanding the program w.r.t. these). The target values are contained in yt (of type gdual,\n",
    "# order 0 as we are not interested in expanding the program w.r.t. these)\n",
    "def mse(dCGP, xin, yt):\n",
    "    y = dCGP([xin])[0]\n",
    "    return (y-yt)**2"
   ]
  },
  {
   "cell_type": "markdown",
   "metadata": {},
   "source": [
    "## Newton's method"
   ]
  },
  {
   "cell_type": "code",
   "execution_count": 5,
   "metadata": {},
   "outputs": [],
   "source": [
    "# Newton's method for minimizing the error function f w.r.t. the weights of the dCGP expression.\n",
    "# We take a specified amount of steps, each by choosing randomly 2 or 3 weights\n",
    "def newton(ex, f, x, yt, p):\n",
    "    n = ex.get_n()\n",
    "    r = ex.get_rows()\n",
    "    c = ex.get_cols()\n",
    "    a = ex.get_arity()[0]\n",
    "    v = np.zeros(r * c * a)\n",
    "    \n",
    "    # random initialization of weights\n",
    "    w=[]\n",
    "    for i in range(r*c):\n",
    "        for j in range(a):\n",
    "            w.append(gdual([np.random.normal(0,1)]))\n",
    "    ex.set_weights(w)\n",
    "    wi = ex.get_weights()\n",
    "        \n",
    "    # get active weights\n",
    "    an = ex.get_active_nodes()\n",
    "    is_active = [False] * (n + r * c) # bool vector of active nodes\n",
    "    for k in range(len(an)):\n",
    "        is_active[an[k]] = True\n",
    "    aw=[] # list of active weights\n",
    "    for k in range(len(an)):\n",
    "        if an[k] >= n:\n",
    "            for l in range(a):\n",
    "                aw.append([an[k], l]) # pair node/ingoing connection \n",
    "    if len(aw)<2:\n",
    "        return\n",
    "    \n",
    "    for i in range(p['steps']):\n",
    "        w = ex.get_weights() # initial weights\n",
    "        \n",
    "        # random choice of the weights w.r.t. which we'll minimize the error\n",
    "        num_vars = np.random.randint(2, min(3, len(aw)) + 1) # number of weights (2 or 3)\n",
    "        awidx = np.random.choice(len(aw), num_vars, replace = False) # indexes of chosen weights\n",
    "        ss = [] # symbols\n",
    "        for j in range(len(awidx)):\n",
    "            ss.append(\"w\" + str(aw[awidx[j]][0]) + \"_\" + str(aw[awidx[j]][1]))\n",
    "            idx = (aw[awidx[j]][0] - n) * a + aw[awidx[j]][1]\n",
    "            w[idx] = gdual(w[idx].constant_cf, ss[j], 2)\n",
    "        ex.set_weights(w)\n",
    "        \n",
    "        # compute the error\n",
    "        E = f(ex, x, yt)\n",
    "        Ei = sum(E.constant_cf)\n",
    "        \n",
    "        # get gradient and Hessian\n",
    "        dw = np.zeros(len(ss))\n",
    "        H = np.zeros((len(ss),len(ss)))\n",
    "        for k in range(len(ss)):\n",
    "            dw[k] = collapse_vectorized_coefficient(E.get_derivative({\"d\"+ss[k]: 1}), len(x.constant_cf))\n",
    "            H[k][k] = collapse_vectorized_coefficient(E.get_derivative({\"d\"+ss[k]: 2}), len(x.constant_cf))\n",
    "            for l in range(k):\n",
    "                H[k][l] = collapse_vectorized_coefficient(E.get_derivative({\"d\"+ss[k]: 1, \"d\"+ss[l]: 1}), len(x.constant_cf))\n",
    "                H[l][k] = H[k][l]\n",
    "        \n",
    "        det = np.linalg.det(H)\n",
    "        if det == 0: # if H is singular\n",
    "            continue\n",
    "        \n",
    "        # compute the updates\n",
    "        updates = - np.linalg.inv(H) @ dw\n",
    "        \n",
    "        # update the weights\n",
    "        for k in range(len(updates)):\n",
    "            idx = (aw[awidx[k]][0] - n) * a + aw[awidx[k]][1]\n",
    "            ex.set_weight(aw[awidx[k]][0], aw[awidx[k]][1], w[idx] + updates[k])\n",
    "        wfe = ex.get_weights()\n",
    "        for j in range(len(awidx)):\n",
    "            idx = (aw[awidx[j]][0] - n) * a + aw[awidx[j]][1]\n",
    "            wfe[idx] = gdual(wfe[idx].constant_cf)\n",
    "        ex.set_weights(wfe)\n",
    "        \n",
    "        # if error increased restore the initial weights\n",
    "        Ef = sum(f(ex, x, yt).constant_cf)\n",
    "        if not Ef < Ei:\n",
    "            for j in range(len(awidx)):\n",
    "                idx = (aw[awidx[j]][0] - n) * a + aw[awidx[j]][1]\n",
    "                w[idx] = gdual(w[idx].constant_cf)\n",
    "            ex.set_weights(w)"
   ]
  },
  {
   "cell_type": "markdown",
   "metadata": {},
   "source": [
    "##  Problem P1:  $x^5 - \\pi x^3 + x$"
   ]
  },
  {
   "cell_type": "code",
   "execution_count": 6,
   "metadata": {},
   "outputs": [],
   "source": [
    "x = np.linspace(1,3,10)\n",
    "x = gdual(x)\n",
    "yt = data_P1(x)"
   ]
  },
  {
   "cell_type": "code",
   "execution_count": 7,
   "metadata": {},
   "outputs": [
    {
     "name": "stdout",
     "output_type": "stream",
     "text": [
      "restart: \t gen: \t expression:\n",
      "2 \t\t 172 \t [-0.0917241583145047*x**7 + 1.02919670639339*x**5]\n",
      "4 \t\t 40 \t [0.999999999999999*x**5 - 3.14159265358979*x**3 + 0.999999999999993*x]\n",
      "5 \t\t 18 \t [1.0*x**5 - 3.1415926535898*x**3 + 1.00000000000001*x]\n",
      "7 \t\t 27 \t [1.0*x**5 - 3.14159265358979*x**3 + 0.999999999999995*x]\n",
      "13 \t\t 1 \t [0.999999999999986*x**5 - 3.14159265358965*x**3 + 0.999999999999757*x]\n",
      "14 \t\t 47 \t [1.0*x**5 - 3.1415926535898*x**3 + 1.00000000000001*x]\n",
      "16 \t\t 198 \t [1.0*x**5 - 3.1415926535898*x**3 + 1.00000000000001*x]\n",
      "20 \t\t 40 \t [2.98911276911255*x**5 - 3.1415926535898*x**3]\n",
      "22 \t\t 97 \t [715.848110774412*x**7 - 601.889112569018*x**5 - 2.30078703643466*x**3 + 1.00000000000001*x]\n",
      "27 \t\t 100 \t [0.999999999999999*x**7 + 7.96174051745268*x**5 - 10.1033331710425*x**3]\n",
      "30 \t\t 56 \t [1.60623698019643*x**5 - 3.1415926535898*x**3]\n",
      "31 \t\t 178 \t [0.999999999999999*x**5 - 3.09517001412459*x**3 - 0.267577015956508*x]\n",
      "36 \t\t 17 \t [1.0*x**5 - 3.1415926535898*x**3 + 1.00000000000001*x]\n",
      "37 \t\t 165 \t [1.0*x**5 - 3.14159265358979*x**3 + 0.999999999999999*x]\n",
      "38 \t\t 165 \t [2.1323923382407*x**5 - 3.14159265358979*x**3]\n",
      "39 \t\t 172 \t [0.999999999999996*x**5 - 3.14159265358975*x**3 + 0.99999999999995*x]\n",
      "40 \t\t 121 \t [-1.14159265358979*x**5]\n"
     ]
    },
    {
     "name": "stderr",
     "output_type": "stream",
     "text": [
      "/home/dario/.local/lib/python3.7/site-packages/numpy/linalg/linalg.py:2116: RuntimeWarning: invalid value encountered in det\n",
      "  r = _umath_linalg.det(a, signature=signature)\n"
     ]
    },
    {
     "name": "stdout",
     "output_type": "stream",
     "text": [
      "43 \t\t 25 \t [-1.1415926535898*x**7]\n",
      "44 \t\t 114 \t [0.640566996189724*x**5 - 1.78215964977952*x**3]\n",
      "45 \t\t 116 \t [1.0*x**5 - 3.1415926535898*x**3 + 1.00000000000001*x]\n",
      "46 \t\t 63 \t [1.0*x**5 - 3.14159265358979*x**3 + 0.999999999999995*x]\n",
      "47 \t\t 5 \t [0.999999999999999*x**5 - 3.14159265358978*x**3 + 0.999999999999986*x]\n",
      "48 \t\t 195 \t [-0.0157465183788702*x**7 + 1.02564598651377*x**5 - 2.52759722898729*x**3]\n",
      "49 \t\t 61 \t [0.999999999999999*x**5 - 3.14159265358979*x**3 + 0.999999999999992*x]\n",
      "50 \t\t 136 \t [1.0*x**5 - 3.14159265358983*x**3 + 1.00000000000007*x]\n",
      "52 \t\t 173 \t [1.0*x**5 - 3.13071257171786*x**3 + 0.978303495273874*x]\n",
      "53 \t\t 164 \t [2.69657071215614*x**5 - 3.83816336574593*x**3]\n",
      "58 \t\t 90 \t [1.0*x**5 - 3.1415926535898*x**3 + 1.00000000000001*x]\n",
      "59 \t\t 162 \t [-0.335468872027631*x**9]\n",
      "64 \t\t 61 \t [1.0*x**5 - 3.14159265358979*x**3 + 0.999999999999998*x]\n",
      "65 \t\t 16 \t [1.0*x**5 - 3.14159265358982*x**3 + 1.00000000000006*x]\n",
      "67 \t\t 8 \t [-1.1415926535898*x**7]\n",
      "68 \t\t 56 \t [-6.17284440249551*x**9 + 2.2187240056424*x**7 + 0.999999999999999*x**5 - 0.359433003810274*x**3]\n",
      "70 \t\t 7 \t [-6650.94927647167*x**7 + 2391.57067663199*x**5 - 0.359433003810276*x**3]\n",
      "72 \t\t 16 \t [1.0*x**5 - 3.1415926535898*x**3 + 1.0*x]\n",
      "74 \t\t 112 \t [1.0*x**5 - 1.90295688539217*x**3]\n",
      "77 \t\t 3 \t [1.0*x**5 - 3.1415926535898*x**3 + 1.0*x]\n",
      "79 \t\t 98 \t [-6.87436253204361e-6*x**9 + 0.0946236506428629*x**7 + 1.0*x**5]\n",
      "81 \t\t 41 \t [-0.453174226870022*x**7 + 1.16288577361329*x**5 - 0.359433003810279*x**3]\n",
      "86 \t\t 67 \t [0.999999999999994*x**5 - 3.14159265358983*x**3 + 1.00000000000015*x]\n",
      "87 \t\t 2 \t [0.999999999999052*x**5 - 3.1415926535796*x**3 + 0.999999999980554*x]\n",
      "88 \t\t 104 \t [0.999999999999999*x**5 - 3.14159265358979*x**3 + 0.999999999999993*x]\n",
      "89 \t\t 142 \t [0.999999999999999*x**5 - 3.14159265358978*x**3 + 0.999999999999982*x]\n",
      "90 \t\t 54 \t [-2.1415926535898*x**5 + 1.0*x]\n",
      "92 \t\t 29 \t [1.0*x**5 - 3.14159265358979*x**3 + 0.999999999999996*x]\n",
      "93 \t\t 148 \t [0.999999996623541*x**5 - 3.14159255633937*x**3 - 2.65478787451276e-7*x**2 + 1.00000019149762*x]\n",
      "94 \t\t 35 \t [1.0*x**5 - 3.1415926535898*x**3 + 1.00000000000001*x]\n",
      "99 \t\t 15 \t [1.0*x**5 - 3.14159265358979*x**3 + 1.0*x]\n"
     ]
    }
   ],
   "source": [
    "# We run nexp experiments and accumulate statistic for the ERT\n",
    "nexp = 100\n",
    "offsprings = 4\n",
    "max_gen=200\n",
    "res = []\n",
    "kernels = kernel_set([\"sum\", \"mul\", \"diff\", \"div\"])()\n",
    "newtonParams = {\n",
    "    'steps': 100,\n",
    "}\n",
    "print(\"restart: \\t gen: \\t expression:\")\n",
    "for i in range(nexp):\n",
    "    dCGP = expression(inputs = 1, outputs = 1, rows=1, cols=15, levels_back=16, arity=2, kernels=kernels, seed = np.random.randint(1233456))\n",
    "    for j in range(dCGP.get_n(), dCGP.get_n() + dCGP.get_rows() * dCGP.get_cols()):\n",
    "        for k in range(dCGP.get_arity()[0]):\n",
    "            dCGP.set_weight(j, k, gdual([np.random.normal(0,1)]))\n",
    "    g, best_chromosome, best_weights = run_experiment(dCGP, offsprings, max_gen, x, yt, newtonParams, screen_output=False)\n",
    "    res.append(g)\n",
    "    dCGP.set(best_chromosome)\n",
    "    if g < (max_gen-1):\n",
    "        print(i, \"\\t\\t\", res[i], \"\\t\", dCGP.simplify([\"x\"],True))\n",
    "    \n",
    "res = np.array(res)"
   ]
  },
  {
   "cell_type": "code",
   "execution_count": 9,
   "metadata": {},
   "outputs": [
    {
     "name": "stdout",
     "output_type": "stream",
     "text": [
      "ERT Expected run time = avg. number of dCGP evaluations needed:  119000.0\n"
     ]
    }
   ],
   "source": [
    "mean_gen = sum(res) / sum(res<(max_gen-1)) * newtonParams['steps']\n",
    "print(\"ERT Expected run time = avg. number of dCGP evaluations needed: \", mean_gen * offsprings)"
   ]
  },
  {
   "cell_type": "markdown",
   "metadata": {},
   "source": [
    "## Problem P2: $x^5 - \\pi x^3 + \\frac{2\\pi}x$"
   ]
  },
  {
   "cell_type": "code",
   "execution_count": 12,
   "metadata": {},
   "outputs": [],
   "source": [
    "x = np.linspace(0.1,5,10) # we include points close to zero here to favour learning of 1/x\n",
    "x = gdual(x)\n",
    "yt = data_P2(x)"
   ]
  },
  {
   "cell_type": "code",
   "execution_count": 15,
   "metadata": {},
   "outputs": [
    {
     "name": "stdout",
     "output_type": "stream",
     "text": [
      "restart: \t gen: \t expression:\n"
     ]
    }
   ],
   "source": [
    "# We run nexp experiments and accumulate statistic for the ERT\n",
    "nexp = 100\n",
    "offsprings = 4\n",
    "max_gen=200\n",
    "res = []\n",
    "kernels = kernel_set([\"sum\", \"mul\", \"diff\", \"div\"])()\n",
    "newtonParams = {\n",
    "    'steps': 100,\n",
    "}\n",
    "print(\"restart: \\t gen: \\t expression:\")\n",
    "for i in range(nexp):\n",
    "    dCGP = expression(1, 1, rows=1, cols=15, levels_back=16, arity=2, kernels=kernels, seed = np.random.randint(1233456))\n",
    "    for j in range(dCGP.get_n(), dCGP.get_n() + dCGP.get_rows() * dCGP.get_cols()):\n",
    "        for k in range(dCGP.get_arity()):\n",
    "            dCGP.set_weight(j, k, gdual([np.random.normal(0,1)]))\n",
    "    g, best_chromosome, best_weights = run_experiment(dCGP, offsprings, max_gen, x, yt, newtonParams, screen_output=False)\n",
    "    res.append(g)\n",
    "    dCGP.set(best_chromosome)\n",
    "    if g < (max_gen-1):\n",
    "        print(i, \"\\t\\t\", res[i], \"\\t\", dCGP.simplify([\"x\"],True))\n",
    "res = np.array(res)"
   ]
  },
  {
   "cell_type": "code",
   "execution_count": 27,
   "metadata": {},
   "outputs": [
    {
     "name": "stdout",
     "output_type": "stream",
     "text": [
      "2 \t\t 51 \t [1.00000000000259*x**5 - 2.17077960914342e-11*x**4 - 3.14157395677534*x**3]\n"
     ]
    }
   ],
   "source": [
    "print(i, \"\\t\\t\", res[i], \"\\t\", dCGP.simplify([\"x\"],True))"
   ]
  },
  {
   "cell_type": "code",
   "execution_count": 44,
   "metadata": {},
   "outputs": [
    {
     "data": {
      "text/plain": [
       "['(w14_0*(w9_0*(w2_0*x/w2_1*(w1_0*x*w1_1*x))-w9_1*(w3_0*(w1_0*x*w1_1*x)*w3_1*x))-w14_1*(w12_0*(w11_0*(w1_0*x*w1_1*x)*w11_1*(w4_0*(w1_0*x*w1_1*x)-w4_1*(w3_0*(w1_0*x*w1_1*x)*w3_1*x)))-w12_1*(w2_0*x/w2_1*(w1_0*x*w1_1*x))))']"
      ]
     },
     "execution_count": 44,
     "metadata": {},
     "output_type": "execute_result"
    }
   ],
   "source": [
    "dCGP([\"x\"])"
   ]
  },
  {
   "cell_type": "code",
   "execution_count": 52,
   "metadata": {},
   "outputs": [
    {
     "data": {
      "text/plain": [
       "[[6.28319e+06]]"
      ]
     },
     "execution_count": 52,
     "metadata": {},
     "output_type": "execute_result"
    }
   ],
   "source": [
    "dCGP([gdual([0.000001])])"
   ]
  },
  {
   "cell_type": "code",
   "execution_count": 39,
   "metadata": {},
   "outputs": [],
   "source": [
    "x_np = np.array(x.constant_cf)\n",
    "y_np = np.array(x_np**5)-np.pi*x_np**3 + 2*np.pi/x_np"
   ]
  },
  {
   "cell_type": "code",
   "execution_count": 41,
   "metadata": {},
   "outputs": [
    {
     "data": {
      "text/plain": [
       "[<matplotlib.lines.Line2D at 0x7fa5c038ab90>]"
      ]
     },
     "execution_count": 41,
     "metadata": {},
     "output_type": "execute_result"
    },
    {
     "data": {
      "image/png": "[encoded data removed]",
      "text/plain": [
       "<Figure size 432x288 with 1 Axes>"
      ]
     },
     "metadata": {
      "needs_background": "light"
     },
     "output_type": "display_data"
    }
   ],
   "source": [
    "from matplotlib import pyplot as plt\n",
    "plt.plot(yt.constant_cf)\n",
    "plt.plot(y_np)\n",
    "plt.plot(dCGP([x])[0].constant_cf)"
   ]
  },
  {
   "cell_type": "markdown",
   "metadata": {},
   "source": [
    "## Problem P3: $\\frac{e x^5 + x^3}{x + 1}$"
   ]
  },
  {
   "cell_type": "code",
   "execution_count": null,
   "metadata": {},
   "outputs": [],
   "source": [
    "x = np.linspace(-0.9,1,10)\n",
    "x = gdual(x)\n",
    "yt = data_P3(x)"
   ]
  },
  {
   "cell_type": "code",
   "execution_count": null,
   "metadata": {},
   "outputs": [],
   "source": [
    "# We run nexp experiments and accumulate statistic for the ERT\n",
    "nexp = 100\n",
    "offsprings = 4\n",
    "max_gen=200\n",
    "res = []\n",
    "kernels = kernel_set([\"sum\", \"mul\", \"diff\", \"div\"])()\n",
    "newtonParams = {\n",
    "    'steps': 100,\n",
    "}\n",
    "print(\"restart: \\t gen: \\t expression:\")\n",
    "for i in range(nexp):\n",
    "    dCGP = expression(1, 1, rows=1, cols=15, levels_back=16, arity=2, kernels=kernels, seed = np.random.randint(1233456))\n",
    "    for j in range(dCGP.get_n(), dCGP.get_n() + dCGP.get_rows() * dCGP.get_cols()):\n",
    "        for k in range(dCGP.get_arity()[0]):\n",
    "            dCGP.set_weight(j, k, gdual([np.random.normal(0,1)]))\n",
    "    g, best_chromosome, best_weights = run_experiment(dCGP, offsprings, max_gen, x, yt, newtonParams, screen_output=False)\n",
    "    res.append(g)\n",
    "    dCGP.set(best_chromosome)\n",
    "    if g < (max_gen-1):\n",
    "        print(i, \"\\t\\t\", res[i], \"\\t\", dCGP.simplify([\"x\"],True))\n",
    "res = np.array(res)"
   ]
  },
  {
   "cell_type": "markdown",
   "metadata": {},
   "source": [
    "## Problem P4: $\\sin(\\pi x) + \\frac 1x$"
   ]
  },
  {
   "cell_type": "code",
   "execution_count": null,
   "metadata": {},
   "outputs": [],
   "source": [
    "x = np.linspace(-1,1,10)\n",
    "x = gdual(x)\n",
    "yt = data_P4(x)"
   ]
  },
  {
   "cell_type": "code",
   "execution_count": null,
   "metadata": {},
   "outputs": [],
   "source": [
    "# We run nexp experiments and accumulate statistic for the ERT\n",
    "nexp = 100\n",
    "offsprings = 4\n",
    "max_gen=200\n",
    "res = []\n",
    "kernels = kernel_set([\"sum\", \"mul\", \"diff\", \"div\", \"sin\"])()\n",
    "newtonParams = {\n",
    "    'steps': 100,\n",
    "}\n",
    "print(\"restart: \\t gen: \\t expression:\")\n",
    "for i in range(nexp):\n",
    "    dCGP = expression(1, 1, rows=1, cols=15, levels_back=16, arity=2, kernels=kernels, seed = np.random.randint(1233456))\n",
    "    for j in range(dCGP.get_n(), dCGP.get_n() + dCGP.get_rows() * dCGP.get_cols()):\n",
    "        for k in range(dCGP.get_arity()[0]):\n",
    "            dCGP.set_weight(j, k, gdual([np.random.normal(0,1)]))\n",
    "    g, best_chromosome, best_weights = run_experiment(dCGP, offsprings, max_gen, x, yt, newtonParams, screen_output=False)\n",
    "    res.append(g)\n",
    "    dCGP.set(best_chromosome)\n",
    "    if g < (max_gen-1):\n",
    "        print(i, \"\\t\\t\", res[i], \"\\t\", dCGP.simplify([\"x\"],True))\n",
    "res = np.array(res)"
   ]
  },
  {
   "cell_type": "markdown",
   "metadata": {},
   "source": [
    "##  Problem P5:  $ex^5 - \\pi x^3 + x$"
   ]
  },
  {
   "cell_type": "code",
   "execution_count": null,
   "metadata": {},
   "outputs": [],
   "source": [
    "x = np.linspace(1,3,10)\n",
    "x = gdual(x)\n",
    "yt = data_P5(x)"
   ]
  },
  {
   "cell_type": "code",
   "execution_count": null,
   "metadata": {},
   "outputs": [],
   "source": [
    "# We run nexp experiments and accumulate statistic for the ERT\n",
    "nexp = 100\n",
    "offsprings = 4\n",
    "max_gen=200\n",
    "res = []\n",
    "kernels = kernel_set([\"sum\", \"mul\", \"diff\", \"div\"])()\n",
    "newtonParams = {\n",
    "    'steps': 100,\n",
    "}\n",
    "print(\"restart: \\t gen: \\t expression:\")\n",
    "for i in range(nexp):\n",
    "    dCGP = expression(1, 1, rows=1, cols=15, levels_back=16, arity=2, kernels=kernels, seed = np.random.randint(1233456))\n",
    "    for j in range(dCGP.get_n(), dCGP.get_n() + dCGP.get_rows() * dCGP.get_cols()):\n",
    "        for k in range(dCGP.get_arity()[0]):\n",
    "            dCGP.set_weight(j, k, gdual([np.random.normal(0,1)]))\n",
    "    g, best_chromosome, best_weights = run_experiment(dCGP, offsprings, max_gen, x, yt, newtonParams, screen_output=False)\n",
    "    res.append(g)\n",
    "    dCGP.set(best_chromosome)\n",
    "    if g < (max_gen-1):\n",
    "        print(i, \"\\t\\t\", res[i], \"\\t\", dCGP.simplify([\"x\"],True))\n",
    "res = np.array(res)"
   ]
  },
  {
   "cell_type": "code",
   "execution_count": null,
   "metadata": {},
   "outputs": [],
   "source": [
    "mean_gen = sum(res) / sum(res<(max_gen-1)) * newtonParams['steps']\n",
    "print(\"ERT Expected run time = avg. number of dCGP evaluations needed: \", mean_gen * offsprings)"
   ]
  },
  {
   "cell_type": "markdown",
   "metadata": {},
   "source": [
    "##  Problem P6: $\\frac{e x^2-1}{\\pi (x + 2)}$"
   ]
  },
  {
   "cell_type": "code",
   "execution_count": null,
   "metadata": {},
   "outputs": [],
   "source": [
    "x = np.linspace(-2.1,1,10)\n",
    "x = gdual(x)\n",
    "yt = data_P6(x)"
   ]
  },
  {
   "cell_type": "code",
   "execution_count": null,
   "metadata": {},
   "outputs": [],
   "source": [
    "# We run nexp experiments and accumulate statistic for the ERT\n",
    "nexp = 100\n",
    "offsprings = 4\n",
    "max_gen=200\n",
    "res = []\n",
    "kernels = kernel_set([\"sum\", \"mul\", \"diff\", \"div\"])()\n",
    "newtonParams = {\n",
    "    'steps': 100,\n",
    "}\n",
    "print(\"restart: \\t gen: \\t expression:\")\n",
    "for i in range(nexp):\n",
    "    dCGP = expression(1, 1, rows=1, cols=15, levels_back=16, arity=2, kernels=kernels, seed = np.random.randint(1233456))\n",
    "    for j in range(dCGP.get_n(), dCGP.get_n() + dCGP.get_rows() * dCGP.get_cols()):\n",
    "        for k in range(dCGP.get_arity()[0]):\n",
    "            dCGP.set_weight(j, k, gdual([np.random.normal(0,1)]))\n",
    "    g, best_chromosome, best_weights = run_experiment(dCGP, offsprings, max_gen, x, yt, newtonParams, screen_output=False)\n",
    "    res.append(g)\n",
    "    dCGP.set(best_chromosome)\n",
    "    if g < (max_gen-1):\n",
    "        print(i, \"\\t\\t\", res[i], \"\\t\", dCGP.simplify([\"x\"],True))\n",
    "res = np.array(res)"
   ]
  },
  {
   "cell_type": "markdown",
   "metadata": {},
   "source": [
    "##  Problem P7:  $\\sin(e x) + \\cos(\\pi x)$"
   ]
  },
  {
   "cell_type": "code",
   "execution_count": null,
   "metadata": {},
   "outputs": [],
   "source": [
    "x = np.linspace(-1,1,10)\n",
    "x = gdual(x)\n",
    "yt = data_P7(x)"
   ]
  },
  {
   "cell_type": "code",
   "execution_count": null,
   "metadata": {},
   "outputs": [],
   "source": [
    "# We run nexp experiments and accumulate statistic for the ERT\n",
    "nexp = 100\n",
    "offsprings = 4\n",
    "max_gen=200\n",
    "res = []\n",
    "kernels = kernel_set([\"sum\", \"mul\", \"diff\", \"div\", \"sin\", \"cos\"])()\n",
    "newtonParams = {\n",
    "    'steps': 100,\n",
    "}\n",
    "print(\"restart: \\t gen: \\t expression:\")\n",
    "for i in range(nexp):\n",
    "    dCGP = expression(1, 1, rows=1, cols=15, levels_back=16, arity=2, kernels=kernels, seed = np.random.randint(1233456))\n",
    "    for j in range(dCGP.get_n(), dCGP.get_n() + dCGP.get_rows() * dCGP.get_cols()):\n",
    "        for k in range(dCGP.get_arity()[0]):\n",
    "            dCGP.set_weight(j, k, gdual([np.random.normal(0,1)]))\n",
    "    g, best_chromosome, best_weights = run_experiment(dCGP, offsprings, max_gen, x, yt, newtonParams, screen_output=False)\n",
    "    res.append(g)\n",
    "    dCGP.set(best_chromosome)\n",
    "    if g < (max_gen-1):\n",
    "        print(i, \"\\t\\t\", res[i], \"\\t\", dCGP.simplify([\"x\"],True))\n",
    "res = np.array(res)"
   ]
  },
  {
   "cell_type": "code",
   "execution_count": 53,
   "metadata": {},
   "outputs": [],
   "source": [
    "import pickle as pk"
   ]
  },
  {
   "cell_type": "code",
   "execution_count": 57,
   "metadata": {},
   "outputs": [],
   "source": [
    "f = open(\"buggy_dcgp_w.pk\", \"wb\")\n"
   ]
  },
  {
   "cell_type": "code",
   "execution_count": 59,
   "metadata": {},
   "outputs": [],
   "source": [
    "pk.dump(dCGP, f)"
   ]
  },
  {
   "cell_type": "code",
   "execution_count": 60,
   "metadata": {},
   "outputs": [
    {
     "data": {
      "text/plain": [
       "<function BufferedWriter.close>"
      ]
     },
     "execution_count": 60,
     "metadata": {},
     "output_type": "execute_result"
    }
   ],
   "source": [
    "f.close"
   ]
  },
  {
   "cell_type": "code",
   "execution_count": 61,
   "metadata": {},
   "outputs": [
    {
     "name": "stdout",
     "output_type": "stream",
     "text": [
      "abalone_data_set.csv                       evo_in_parallel.ipynb\r\n",
      "An_intro_to_dCGPANNs.ipynb                 finding_prime_integrals.ipynb\r\n",
      "A_real-world_case2.ipynb                   learning_constants2.ipynb\r\n",
      "A_real-world_case.ipynb                    learning_constants.ipynb\r\n",
      "buggy_dcgp_w                               solving_odes.ipynb\r\n",
      "buggy_dcgp_w.pk                            symbolic_regression_1.ipynb\r\n",
      "custom_kernels.ipynb                       symbolic_regression_2.ipynb\r\n",
      "dCGPANNs_for_classification.ipynb          symbolic_regression_3.ipynb\r\n",
      "dCGPANNs_for_function_approximation.ipynb  weighted_symbolic_regression.ipynb\r\n"
     ]
    }
   ],
   "source": [
    "ls"
   ]
  },
  {
   "cell_type": "code",
   "execution_count": null,
   "metadata": {},
   "outputs": [],
   "source": []
  }
 ],
 "metadata": {
  "kernelspec": {
   "display_name": "Python 3",
   "language": "python",
   "name": "python3"
  },
  "language_info": {
   "codemirror_mode": {
    "name": "ipython",
    "version": 3
   },
   "file_extension": ".py",
   "mimetype": "text/x-python",
   "name": "python",
   "nbconvert_exporter": "python",
   "pygments_lexer": "ipython3",
   "version": "3.7.6"
  }
 },
 "nbformat": 4,
 "nbformat_minor": 1
}
